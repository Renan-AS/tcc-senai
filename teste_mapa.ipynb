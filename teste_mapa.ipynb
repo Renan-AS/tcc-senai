#importando as bibliotecas
import folium
import json
import requests
#Criando mapa


#url = "https://raw.githubusercontent.com/Renan-AS/tcc-senai/main/OPM_SSA.json"

import json
from urllib.request import urlopen

JSON='https://raw.githubusercontent.com/Renan-AS/tcc-senai/main/opm_ssa_2.json'



world_geo=pd.read_json(JSON, lines=True, orient="columns")

world_map = folium.Map(location=[-11.409874,-41.280857], zoom_start=9)



# display map
world_map
